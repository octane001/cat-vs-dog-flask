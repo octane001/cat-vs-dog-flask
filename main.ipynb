{
 "cells": [
  {
   "cell_type": "code",
   "execution_count": 13,
   "id": "5ec66722",
   "metadata": {},
   "outputs": [
    {
     "name": "stdout",
     "output_type": "stream",
     "text": [
      "Hello World!\n"
     ]
    }
   ],
   "source": [
    "print(\"Hello World!\")"
   ]
  },
  {
   "cell_type": "code",
   "execution_count": 1,
   "id": "2a032a3f",
   "metadata": {},
   "outputs": [
    {
     "name": "stdout",
     "output_type": "stream",
     "text": [
      "Classes: ['Cat', 'Dog']\n"
     ]
    },
    {
     "name": "stderr",
     "output_type": "stream",
     "text": [
      "d:\\MiniProject\\AnimalWebApp\\env\\Lib\\site-packages\\torchvision\\models\\_utils.py:208: UserWarning: The parameter 'pretrained' is deprecated since 0.13 and may be removed in the future, please use 'weights' instead.\n",
      "  warnings.warn(\n",
      "d:\\MiniProject\\AnimalWebApp\\env\\Lib\\site-packages\\torchvision\\models\\_utils.py:223: UserWarning: Arguments other than a weight enum or `None` for 'weights' are deprecated since 0.13 and may be removed in the future. The current behavior is equivalent to passing `weights=ResNet50_Weights.IMAGENET1K_V1`. You can also use `weights=ResNet50_Weights.DEFAULT` to get the most up-to-date weights.\n",
      "  warnings.warn(msg)\n"
     ]
    },
    {
     "name": "stdout",
     "output_type": "stream",
     "text": [
      "Epoch 1/20, Loss: 95.9710, Accuracy: 0.7638\n",
      "Epoch 2/20, Loss: 76.6457, Accuracy: 0.8225\n",
      "Epoch 3/20, Loss: 102.4051, Accuracy: 0.7800\n",
      "Epoch 4/20, Loss: 73.5011, Accuracy: 0.8413\n",
      "Epoch 5/20, Loss: 72.7605, Accuracy: 0.8488\n",
      "Epoch 6/20, Loss: 71.8642, Accuracy: 0.8500\n",
      "Epoch 7/20, Loss: 67.9553, Accuracy: 0.8462\n",
      "Epoch 8/20, Loss: 74.3272, Accuracy: 0.8400\n",
      "Epoch 9/20, Loss: 74.6709, Accuracy: 0.8512\n",
      "Epoch 10/20, Loss: 76.7949, Accuracy: 0.8350\n",
      "Epoch 11/20, Loss: 82.4359, Accuracy: 0.8375\n",
      "Epoch 12/20, Loss: 82.2886, Accuracy: 0.8225\n",
      "Epoch 13/20, Loss: 100.8440, Accuracy: 0.8113\n",
      "Epoch 14/20, Loss: 86.1081, Accuracy: 0.8425\n",
      "Epoch 15/20, Loss: 56.0216, Accuracy: 0.8938\n",
      "Epoch 16/20, Loss: 79.8600, Accuracy: 0.8462\n",
      "Epoch 17/20, Loss: 111.4603, Accuracy: 0.8087\n",
      "Epoch 18/20, Loss: 73.4420, Accuracy: 0.8650\n",
      "Epoch 19/20, Loss: 77.2672, Accuracy: 0.8512\n",
      "Epoch 20/20, Loss: 84.7469, Accuracy: 0.8337\n",
      "Model saved!\n"
     ]
    }
   ],
   "source": [
    "import os\n",
    "import torch\n",
    "import torch.nn as nn\n",
    "from torchvision import datasets, models, transforms\n",
    "from torch.utils.data import DataLoader\n",
    "from torch.optim import Adam\n",
    "from sklearn.metrics import accuracy_score\n",
    "import numpy as np\n",
    "\n",
    "# Setup\n",
    "device = torch.device(\"cuda\" if torch.cuda.is_available() else \"cpu\")\n",
    "data_dir = \"D:\\\\MiniProject\\\\AnimalWebApp\\\\DataSet2\" \n",
    "\n",
    "# Data Transforms (with augmentation for training)\n",
    "transform = transforms.Compose([\n",
    "    transforms.Resize((256, 256)),\n",
    "    transforms.RandomResizedCrop(224),\n",
    "    transforms.RandomHorizontalFlip(),\n",
    "    transforms.ColorJitter(brightness=0.2, contrast=0.2, saturation=0.2),\n",
    "    transforms.ToTensor(),\n",
    "    transforms.Normalize([0.485, 0.456, 0.406],[0.229, 0.224, 0.225])\n",
    "])\n",
    "\n",
    "\n",
    "# Load Dataset\n",
    "dataset = datasets.ImageFolder(data_dir, transform=transform)\n",
    "data_loader = DataLoader(dataset, batch_size=4, shuffle=True)\n",
    "\n",
    "# Class names\n",
    "class_names = dataset.classes\n",
    "print(f\"Classes: {class_names}\")\n",
    "\n",
    "# Load Pretrained ResNet50\n",
    "model = models.resnet50(pretrained=True)\n",
    "\n",
    "# Freeze all layers\n",
    "for param in model.parameters():\n",
    "    param.requires_grad = False\n",
    "\n",
    "# Replace final layer for binary classification\n",
    "num_ftrs = model.fc.in_features\n",
    "model.fc = nn.Linear(num_ftrs, 2)\n",
    "model = model.to(device)\n",
    "\n",
    "# Loss and optimizer\n",
    "criterion = nn.CrossEntropyLoss()\n",
    "optimizer = Adam(model.fc.parameters(), lr=0.001)\n",
    "\n",
    "# Training Loop\n",
    "num_epochs = 20\n",
    "for epoch in range(num_epochs):\n",
    "    model.train()\n",
    "    running_loss = 0.0\n",
    "    all_preds = []\n",
    "    all_labels = []\n",
    "\n",
    "    for images, labels in data_loader:\n",
    "        images = images.to(device)\n",
    "        labels = labels.to(device)\n",
    "\n",
    "        outputs = model(images)\n",
    "        loss = criterion(outputs, labels)\n",
    "\n",
    "        optimizer.zero_grad()\n",
    "        loss.backward()\n",
    "        optimizer.step()\n",
    "\n",
    "        running_loss += loss.item()\n",
    "\n",
    "        _, preds = torch.max(outputs, 1)\n",
    "        all_preds.extend(preds.cpu().numpy())\n",
    "        all_labels.extend(labels.cpu().numpy())\n",
    "\n",
    "    acc = accuracy_score(all_labels, all_preds)\n",
    "    print(f\"Epoch {epoch+1}/{num_epochs}, Loss: {running_loss:.4f}, Accuracy: {acc:.4f}\")\n",
    "\n",
    "# Save model\n",
    "torch.save(model.state_dict(), \"cats_vs_dogs_resnet50.pth\")\n",
    "print(\"Model saved!\")"
   ]
  },
  {
   "cell_type": "code",
   "execution_count": 5,
   "id": "c6baedc4",
   "metadata": {},
   "outputs": [
    {
     "name": "stdout",
     "output_type": "stream",
     "text": [
      "Dog\n"
     ]
    }
   ],
   "source": [
    "from PIL import Image\n",
    "\n",
    "# Load model\n",
    "model = models.resnet50(pretrained=False)\n",
    "model.fc = nn.Linear(model.fc.in_features, 2)\n",
    "model.load_state_dict(torch.load(\"cats_vs_dogs_resnet50.pth\"))\n",
    "model = model.to(device)\n",
    "model.eval()\n",
    "\n",
    "# Prediction function\n",
    "def predict_image(img_path):\n",
    "    image = Image.open(img_path).convert('RGB')\n",
    "    image = transform(image).unsqueeze(0).to(device)\n",
    "    output = model(image)\n",
    "    _, predicted = torch.max(output, 1)\n",
    "    return class_names[predicted.item()]\n",
    "\n",
    "# Example usage\n",
    "print(predict_image(\"D:\\\\MiniProject\\\\AnimalWebApp\\\\DataSet\\\\Dog\\\\401.jpg\"))"
   ]
  },
  {
   "cell_type": "code",
   "execution_count": null,
   "id": "e149d42b",
   "metadata": {},
   "outputs": [],
   "source": []
  }
 ],
 "metadata": {
  "kernelspec": {
   "display_name": "env",
   "language": "python",
   "name": "python3"
  },
  "language_info": {
   "codemirror_mode": {
    "name": "ipython",
    "version": 3
   },
   "file_extension": ".py",
   "mimetype": "text/x-python",
   "name": "python",
   "nbconvert_exporter": "python",
   "pygments_lexer": "ipython3",
   "version": "3.13.1"
  }
 },
 "nbformat": 4,
 "nbformat_minor": 5
}
